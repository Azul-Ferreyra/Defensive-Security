{
 "cells": [
  {
   "cell_type": "code",
   "execution_count": 17,
   "id": "02efcef3-940a-4cb4-b4a2-b6d094e81089",
   "metadata": {},
   "outputs": [],
   "source": [
    "## CIFRADO AES"
   ]
  },
  {
   "cell_type": "code",
   "execution_count": 18,
   "id": "6620fbc7-6b04-4227-b871-6a452370e749",
   "metadata": {},
   "outputs": [],
   "source": [
    "from Crypto.Cipher import AES"
   ]
  },
  {
   "cell_type": "code",
   "execution_count": 19,
   "id": "792d8103-aa9f-4e00-aef7-1cb898cc0357",
   "metadata": {},
   "outputs": [],
   "source": [
    "clave_cifrado = b'A\\x83\\xbeU\\xd7\\xa9b\\x18\\x85AN0\\xbft\\xc3\\xab'"
   ]
  },
  {
   "cell_type": "code",
   "execution_count": 20,
   "id": "fde34ed3-95e0-45dc-bdcd-f4cca5506dee",
   "metadata": {},
   "outputs": [],
   "source": [
    "texto_plano = b'texto secreto'"
   ]
  },
  {
   "cell_type": "code",
   "execution_count": 21,
   "id": "b6425463-ba31-4b39-be32-bcf68d3c414f",
   "metadata": {},
   "outputs": [],
   "source": [
    "AES_cipher = AES.new(clave_cifrado, AES.MODE_ECB)"
   ]
  },
  {
   "cell_type": "code",
   "execution_count": 22,
   "id": "632d35ab-5322-42fc-8122-7a76701d2034",
   "metadata": {},
   "outputs": [
    {
     "ename": "ValueError",
     "evalue": "Data must be aligned to block boundary in ECB mode",
     "output_type": "error",
     "traceback": [
      "\u001b[0;31m---------------------------------------------------------------------------\u001b[0m",
      "\u001b[0;31mValueError\u001b[0m                                Traceback (most recent call last)",
      "Cell \u001b[0;32mIn[22], line 1\u001b[0m\n\u001b[0;32m----> 1\u001b[0m \u001b[43mAES_cipher\u001b[49m\u001b[38;5;241;43m.\u001b[39;49m\u001b[43mencrypt\u001b[49m\u001b[43m(\u001b[49m\u001b[43mtexto_plano\u001b[49m\u001b[43m)\u001b[49m\n",
      "File \u001b[0;32m~/.local/lib/python3.11/site-packages/Crypto/Cipher/_mode_ecb.py:141\u001b[0m, in \u001b[0;36mEcbMode.encrypt\u001b[0;34m(self, plaintext, output)\u001b[0m\n\u001b[1;32m    139\u001b[0m \u001b[38;5;28;01mif\u001b[39;00m result:\n\u001b[1;32m    140\u001b[0m     \u001b[38;5;28;01mif\u001b[39;00m result \u001b[38;5;241m==\u001b[39m \u001b[38;5;241m3\u001b[39m:\n\u001b[0;32m--> 141\u001b[0m         \u001b[38;5;28;01mraise\u001b[39;00m \u001b[38;5;167;01mValueError\u001b[39;00m(\u001b[38;5;124m\"\u001b[39m\u001b[38;5;124mData must be aligned to block boundary in ECB mode\u001b[39m\u001b[38;5;124m\"\u001b[39m)\n\u001b[1;32m    142\u001b[0m     \u001b[38;5;28;01mraise\u001b[39;00m \u001b[38;5;167;01mValueError\u001b[39;00m(\u001b[38;5;124m\"\u001b[39m\u001b[38;5;124mError \u001b[39m\u001b[38;5;132;01m%d\u001b[39;00m\u001b[38;5;124m while encrypting in ECB mode\u001b[39m\u001b[38;5;124m\"\u001b[39m \u001b[38;5;241m%\u001b[39m result)\n\u001b[1;32m    144\u001b[0m \u001b[38;5;28;01mif\u001b[39;00m output \u001b[38;5;129;01mis\u001b[39;00m \u001b[38;5;28;01mNone\u001b[39;00m:\n",
      "\u001b[0;31mValueError\u001b[0m: Data must be aligned to block boundary in ECB mode"
     ]
    }
   ],
   "source": [
    "AES_cipher.encrypt(texto_plano)"
   ]
  },
  {
   "cell_type": "code",
   "execution_count": 88,
   "id": "91cccba2-af22-4f7e-8766-3947446045f7",
   "metadata": {},
   "outputs": [],
   "source": [
    "#Los datos deben estar alineados con el bloque "
   ]
  },
  {
   "cell_type": "code",
   "execution_count": 24,
   "id": "02c30df9-c342-445e-8b77-9021e6afaca7",
   "metadata": {},
   "outputs": [],
   "source": [
    "#-----------------------------------------------------ANZUR------------------------------------------------------------"
   ]
  },
  {
   "cell_type": "code",
   "execution_count": 25,
   "id": "03bc710d-bfae-4d91-9910-31101021104f",
   "metadata": {},
   "outputs": [],
   "source": [
    "# PADDING"
   ]
  },
  {
   "cell_type": "code",
   "execution_count": 26,
   "id": "64632360-903a-4903-b26b-33e3ef10d8fc",
   "metadata": {},
   "outputs": [],
   "source": [
    "while len(texto_plano) %16 !=0:\n",
    "    texto_plano += b\"\\x00\""
   ]
  },
  {
   "cell_type": "code",
   "execution_count": 27,
   "id": "15532191-861b-42fa-9ce0-04e284061a5c",
   "metadata": {},
   "outputs": [
    {
     "data": {
      "text/plain": [
       "16"
      ]
     },
     "execution_count": 27,
     "metadata": {},
     "output_type": "execute_result"
    }
   ],
   "source": [
    "len(texto_plano)"
   ]
  },
  {
   "cell_type": "code",
   "execution_count": 30,
   "id": "1a802916-1550-4390-aa45-c6af3a4e0f1a",
   "metadata": {},
   "outputs": [
    {
     "data": {
      "text/plain": [
       "b'texto secreto\\x00\\x00\\x00'"
      ]
     },
     "execution_count": 30,
     "metadata": {},
     "output_type": "execute_result"
    }
   ],
   "source": [
    "texto_plano"
   ]
  },
  {
   "cell_type": "code",
   "execution_count": 31,
   "id": "ce956563-db9c-49ef-b588-e7421aa67a61",
   "metadata": {},
   "outputs": [],
   "source": [
    "texto_cifrado = AES_cipher.encrypt(texto_plano)"
   ]
  },
  {
   "cell_type": "code",
   "execution_count": 32,
   "id": "a95b4cb5-56be-4d2d-9dc8-f92a380eee9b",
   "metadata": {},
   "outputs": [
    {
     "data": {
      "text/plain": [
       "16"
      ]
     },
     "execution_count": 32,
     "metadata": {},
     "output_type": "execute_result"
    }
   ],
   "source": [
    "len(texto_cifrado)"
   ]
  },
  {
   "cell_type": "code",
   "execution_count": 33,
   "id": "2289f615-042c-4796-9228-5f9da2044c8c",
   "metadata": {},
   "outputs": [
    {
     "data": {
      "text/plain": [
       "b'\\xb8\\x1c\\x1a\\xb6\\xaef\\xc3R\\x12\\x0cp\\x87@\\xb3}\\xd7'"
      ]
     },
     "execution_count": 33,
     "metadata": {},
     "output_type": "execute_result"
    }
   ],
   "source": [
    "texto_cifrado"
   ]
  },
  {
   "cell_type": "code",
   "execution_count": 34,
   "id": "73dcdec9-0f76-44fb-ace1-1670ff6d3c5f",
   "metadata": {},
   "outputs": [
    {
     "data": {
      "text/plain": [
       "16"
      ]
     },
     "execution_count": 34,
     "metadata": {},
     "output_type": "execute_result"
    }
   ],
   "source": [
    "len(texto_cifrado)"
   ]
  },
  {
   "cell_type": "code",
   "execution_count": 41,
   "id": "59f4b89d-43e1-4766-81cc-ebb78ba7d30f",
   "metadata": {},
   "outputs": [],
   "source": [
    "##  MODO DE OPERACION CTR"
   ]
  },
  {
   "cell_type": "code",
   "execution_count": 35,
   "id": "cb0f0c8f-c576-4d9c-9ecb-14de2cf4db1d",
   "metadata": {},
   "outputs": [],
   "source": [
    "texto_plano = b'texto secreto'"
   ]
  },
  {
   "cell_type": "code",
   "execution_count": 37,
   "id": "1c9f38da-bd56-47c5-a782-5efbc797894a",
   "metadata": {},
   "outputs": [
    {
     "data": {
      "text/plain": [
       "13"
      ]
     },
     "execution_count": 37,
     "metadata": {},
     "output_type": "execute_result"
    }
   ],
   "source": [
    "len(texto_plano)"
   ]
  },
  {
   "cell_type": "code",
   "execution_count": 36,
   "id": "99f17f98-b773-45a1-8858-7573312ddc1b",
   "metadata": {},
   "outputs": [],
   "source": [
    "AES_cipher = AES.new(clave_cifrado, AES.MODE_CTR)"
   ]
  },
  {
   "cell_type": "code",
   "execution_count": 39,
   "id": "e3cac9f2-81ec-45a6-9efe-145dac2a8a43",
   "metadata": {},
   "outputs": [],
   "source": [
    "texto_cifrado = AES_cipher.encrypt(texto_plano)"
   ]
  },
  {
   "cell_type": "code",
   "execution_count": 40,
   "id": "a5ffdbed-322b-4955-8b79-1177cc30f9a7",
   "metadata": {},
   "outputs": [
    {
     "data": {
      "text/plain": [
       "13"
      ]
     },
     "execution_count": 40,
     "metadata": {},
     "output_type": "execute_result"
    }
   ],
   "source": [
    "len(texto_cifrado)"
   ]
  },
  {
   "cell_type": "code",
   "execution_count": 42,
   "id": "b75fdd4b-dfb7-415b-bf39-c3942bb16265",
   "metadata": {},
   "outputs": [],
   "source": [
    "## Diferencia entre CTR y ECB"
   ]
  },
  {
   "cell_type": "code",
   "execution_count": 43,
   "id": "6d1f6a6e-3cba-4cbc-aa74-80a2f35b9cbc",
   "metadata": {},
   "outputs": [],
   "source": [
    " #CTR\n",
    "from Crypto.Random import get_random_bytes"
   ]
  },
  {
   "cell_type": "code",
   "execution_count": 44,
   "id": "158cbc2f-3993-458d-b2e9-624b9678dec3",
   "metadata": {},
   "outputs": [],
   "source": [
    "clave_cifrado = get_random_bytes(32)"
   ]
  },
  {
   "cell_type": "code",
   "execution_count": 45,
   "id": "e632d26b-c38c-4878-9316-e337133e9c67",
   "metadata": {},
   "outputs": [
    {
     "data": {
      "text/plain": [
       "b\"\\x0c5.\\xbem+L\\xd6\\xbf'R\\xed:c\\x085_\\xd7\\xbb\\x8fv\\xb9\\xd7\\xcb\\xdc\\xb6\\xf2|\\xffiB\\\\\""
      ]
     },
     "execution_count": 45,
     "metadata": {},
     "output_type": "execute_result"
    }
   ],
   "source": [
    "clave_cifrado"
   ]
  },
  {
   "cell_type": "code",
   "execution_count": 46,
   "id": "3da27e42-ae9d-4ca1-8d54-9eeabbfe0bd2",
   "metadata": {},
   "outputs": [],
   "source": [
    "AES_cipher = AES.new(clave_cifrado, AES.MODE_CTR)"
   ]
  },
  {
   "cell_type": "code",
   "execution_count": 47,
   "id": "6a957edf-08e4-4d95-975a-8d85cdfac059",
   "metadata": {},
   "outputs": [],
   "source": [
    "texto_cifrado = AES_cipher.encrypt(texto_plano)"
   ]
  },
  {
   "cell_type": "code",
   "execution_count": 48,
   "id": "8dec9d36-26aa-4df7-824b-2aef00cbdabf",
   "metadata": {},
   "outputs": [
    {
     "data": {
      "text/plain": [
       "13"
      ]
     },
     "execution_count": 48,
     "metadata": {},
     "output_type": "execute_result"
    }
   ],
   "source": [
    "len(texto_cifrado)"
   ]
  },
  {
   "cell_type": "code",
   "execution_count": 50,
   "id": "fc89b962-dde7-4fcf-9e8d-d781af76922c",
   "metadata": {},
   "outputs": [],
   "source": [
    "# ECB\n",
    "\n",
    "while len(texto_plano) %16 !=0:\n",
    "    texto_plano += b\"\\x00\""
   ]
  },
  {
   "cell_type": "code",
   "execution_count": 51,
   "id": "20f32e7a-bc6d-4b0f-a61c-6c2d772a52f2",
   "metadata": {},
   "outputs": [],
   "source": [
    "AES_cipher = AES.new(clave_cifrado, AES.MODE_ECB)"
   ]
  },
  {
   "cell_type": "code",
   "execution_count": 54,
   "id": "f1c27e8e-34aa-4450-a984-df447ab18648",
   "metadata": {},
   "outputs": [],
   "source": [
    "texto_cifrado = AES_cipher.encrypt(texto_plano)"
   ]
  },
  {
   "cell_type": "code",
   "execution_count": 55,
   "id": "c26256bf-708f-44df-b860-cdc0973633c6",
   "metadata": {},
   "outputs": [
    {
     "data": {
      "text/plain": [
       "b']\\x94_/\\x1e|\\x7f\\xc4Y\\x8d\\x9c\\x0c\\xc2\\xf2BX'"
      ]
     },
     "execution_count": 55,
     "metadata": {},
     "output_type": "execute_result"
    }
   ],
   "source": [
    "texto_cifrado"
   ]
  },
  {
   "cell_type": "code",
   "execution_count": 56,
   "id": "c0576cad-c47b-429b-bf6c-c612dcc9a3a3",
   "metadata": {},
   "outputs": [
    {
     "data": {
      "text/plain": [
       "16"
      ]
     },
     "execution_count": 56,
     "metadata": {},
     "output_type": "execute_result"
    }
   ],
   "source": [
    "len(texto_cifrado)"
   ]
  },
  {
   "cell_type": "code",
   "execution_count": 57,
   "id": "70138740-28a9-4165-940e-4c58ce808d66",
   "metadata": {},
   "outputs": [],
   "source": [
    "#Conclusion: el tamaño de la clave no afecta al tamaño del bloque"
   ]
  },
  {
   "cell_type": "code",
   "execution_count": 61,
   "id": "ba1c68fe-7ade-4a87-857b-f0134e4da286",
   "metadata": {},
   "outputs": [],
   "source": [
    "# MENSAJE AES-128 CON MODELO ECB Y CTR, AMBOS CON ERROR EN TRASMISION DE 1 BYTE "
   ]
  },
  {
   "cell_type": "code",
   "execution_count": 60,
   "id": "1351fea4-7f70-4535-886e-1be6ea1a4825",
   "metadata": {},
   "outputs": [],
   "source": [
    "# ECB"
   ]
  },
  {
   "cell_type": "code",
   "execution_count": 67,
   "id": "b0a0a3fe-a60b-4e8c-bcfd-5b210e58d99c",
   "metadata": {},
   "outputs": [],
   "source": [
    "texto_cifrado_ECB= b'\\xd5\\x8b\\xc2\\xd0F\\xc0w\\xfe\\xc1\\x12\\xaaX\\x8f}{)i[\\xf1\\xc7\\x9d\\x1d\\x08\\xcd\\xc2\\xd8>;\\r\\xef\\xce\\xec\\x89\\xbd\\xeb{\\xe6mY\\xcev\\xb9\\xdb\\x06\\x17\\xd9\\xd6cG6\\xb4\\xcfN\\xf9\\x15.\\xbe\\xed\\xe7\\xee#\\xd0\\xd9\\x03\\xb9l\\xbap\\x0c\\x9c\\xbe\\xc3\\xe1\\xae\\x86~pk\\\\\\x0f'"
   ]
  },
  {
   "cell_type": "code",
   "execution_count": 68,
   "id": "98f75971-d78a-4eb6-b438-55b812330139",
   "metadata": {},
   "outputs": [
    {
     "data": {
      "text/plain": [
       "80"
      ]
     },
     "execution_count": 68,
     "metadata": {},
     "output_type": "execute_result"
    }
   ],
   "source": [
    "len(texto_cifrado_ECB)"
   ]
  },
  {
   "cell_type": "code",
   "execution_count": 69,
   "id": "3f652934-f43f-4147-88a4-d8c72e84a366",
   "metadata": {},
   "outputs": [],
   "source": [
    "clave_cifrado = b'A\\x83\\xbeU\\xd7\\xa9b\\x18\\x85AN0\\xbft\\xc3\\xab'"
   ]
  },
  {
   "cell_type": "code",
   "execution_count": 70,
   "id": "b019d475-f354-436a-9b97-6d258773fafe",
   "metadata": {},
   "outputs": [],
   "source": [
    "AES_cipher = AES.new(clave_cifrado, AES.MODE_ECB)"
   ]
  },
  {
   "cell_type": "code",
   "execution_count": 72,
   "id": "a621e3b0-eb0c-4b7f-8af6-ee4ad97e2d8b",
   "metadata": {},
   "outputs": [
    {
     "data": {
      "text/plain": [
       "b'Este es un mensa\\x1fX\\xba(\\\\X\\xe6E{(}\\x8a}d}0a sufrido un error durante la transmision\\x00\\x00\\x00\\x00\\x00\\x00\\x00'"
      ]
     },
     "execution_count": 72,
     "metadata": {},
     "output_type": "execute_result"
    }
   ],
   "source": [
    "AES_cipher.decrypt(texto_cifrado_ECB)"
   ]
  },
  {
   "cell_type": "code",
   "execution_count": 75,
   "id": "51b83904-9923-40b7-b6bb-78c6e2964d36",
   "metadata": {},
   "outputs": [],
   "source": [
    "parte = b\"\\x1fX\\xba(\\\\X\\xe6E{(}\\x8a}d}0\""
   ]
  },
  {
   "cell_type": "code",
   "execution_count": 77,
   "id": "ea93f191-e7b7-4300-9f0f-fe5883bfb0a2",
   "metadata": {},
   "outputs": [
    {
     "data": {
      "text/plain": [
       "128"
      ]
     },
     "execution_count": 77,
     "metadata": {},
     "output_type": "execute_result"
    }
   ],
   "source": [
    "len(parte) * 8\n",
    "# Aun siendo unicamente un byte el cual sufre de error puede propagarse a un bloque "
   ]
  },
  {
   "cell_type": "code",
   "execution_count": 78,
   "id": "8776b7dd-777d-42b0-afa9-a78c961a01dd",
   "metadata": {},
   "outputs": [],
   "source": [
    "# CTR\n",
    "texto_cifradoCTR = b'{\\x9a`\\x04\\x80\\xc5\\x026D\\x1f\\xaf\\x9c&\\xd1\\x83\\x0c\\xf2wL\\xd6F}\\xd35B.\\xb4\\xe5\\xb1^\\x05 P\\xc8\\xe8\\x89\\xe1\\xf7;G\\x13\\xf0\\xccbs\\xe8\\x121\\x8b4\\xbf\\xda\\x93v\\xcb\\xe4\\xf8g\\xe72\\xc5~\\x97\\x01TR\\x9d\\x0b'"
   ]
  },
  {
   "cell_type": "code",
   "execution_count": 84,
   "id": "e3756aca-05c0-4c2a-82d3-026c9b70e668",
   "metadata": {},
   "outputs": [],
   "source": [
    "from Crypto.Util import Counter"
   ]
  },
  {
   "cell_type": "code",
   "execution_count": 85,
   "id": "7c9b26c6-5050-4c7a-9102-f0901d9704a1",
   "metadata": {},
   "outputs": [],
   "source": [
    "AES_cipher = AES.new(clave_cifrado, AES.MODE_CTR, counter= Counter.new(128))"
   ]
  },
  {
   "cell_type": "code",
   "execution_count": 86,
   "id": "d5c67e5f-5807-4b06-962e-dc082f704f90",
   "metadata": {},
   "outputs": [
    {
     "data": {
      "text/plain": [
       "b'Este es un mensaje secreto que ha sufrvdo un error en la transmision'"
      ]
     },
     "execution_count": 86,
     "metadata": {},
     "output_type": "execute_result"
    }
   ],
   "source": [
    "AES_cipher.decrypt(texto_cifradoCTR)"
   ]
  },
  {
   "cell_type": "code",
   "execution_count": 87,
   "id": "50f15396-b8ba-4d64-8171-55d416d07dbf",
   "metadata": {},
   "outputs": [],
   "source": [
    "#Este error unicamente se propaga a un unico byte. "
   ]
  },
  {
   "cell_type": "code",
   "execution_count": 89,
   "id": "2bf6cc6e-49b8-47fb-914e-10bc55afeaa9",
   "metadata": {},
   "outputs": [],
   "source": [
    "# @ANZUR.PY Seguime en Instagram! "
   ]
  },
  {
   "cell_type": "code",
   "execution_count": null,
   "id": "78dd048c-49a6-43ec-94be-9a78a6530d41",
   "metadata": {},
   "outputs": [],
   "source": []
  }
 ],
 "metadata": {
  "kernelspec": {
   "display_name": "Python 3 (ipykernel)",
   "language": "python",
   "name": "python3"
  },
  "language_info": {
   "codemirror_mode": {
    "name": "ipython",
    "version": 3
   },
   "file_extension": ".py",
   "mimetype": "text/x-python",
   "name": "python",
   "nbconvert_exporter": "python",
   "pygments_lexer": "ipython3",
   "version": "3.11.9"
  }
 },
 "nbformat": 4,
 "nbformat_minor": 5
}
