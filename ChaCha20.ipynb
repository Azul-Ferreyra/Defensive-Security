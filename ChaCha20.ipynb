{
 "cells": [
  {
   "cell_type": "code",
   "execution_count": 12,
   "id": "f8ac5133-c244-4993-9f8b-728af11e13d0",
   "metadata": {},
   "outputs": [],
   "source": [
    "## Cifrado ChaCha20 "
   ]
  },
  {
   "cell_type": "code",
   "execution_count": 1,
   "id": "932fa165-f7ef-4a96-a2da-fdbbda6244c8",
   "metadata": {},
   "outputs": [
    {
     "name": "stdout",
     "output_type": "stream",
     "text": [
      "Defaulting to user installation because normal site-packages is not writeable\n",
      "Collecting pycryptodome\n",
      "  Downloading pycryptodome-3.20.0-cp35-abi3-manylinux_2_17_x86_64.manylinux2014_x86_64.whl.metadata (3.4 kB)\n",
      "Downloading pycryptodome-3.20.0-cp35-abi3-manylinux_2_17_x86_64.manylinux2014_x86_64.whl (2.1 MB)\n",
      "\u001b[2K   \u001b[38;2;114;156;31m━━━━━━━━━━━━━━━━━━━━━━━━━━━━━━━━━━━━━━━━\u001b[0m \u001b[32m2.1/2.1 MB\u001b[0m \u001b[31m1.0 MB/s\u001b[0m eta \u001b[36m0:00:00\u001b[0mm eta \u001b[36m0:00:01\u001b[0m[36m0:00:01\u001b[0m\n",
      "\u001b[?25hInstalling collected packages: pycryptodome\n",
      "Successfully installed pycryptodome-3.20.0\n"
     ]
    }
   ],
   "source": [
    "!pip install pycryptodome"
   ]
  },
  {
   "cell_type": "code",
   "execution_count": 24,
   "id": "d4a9a0a4-0cdc-44df-840d-7a64b8f5e6cf",
   "metadata": {},
   "outputs": [],
   "source": [
    "from Crypto.Cipher import ChaCha20\n",
    "from Crypto.Random import get_random_bytes"
   ]
  },
  {
   "cell_type": "code",
   "execution_count": 25,
   "id": "26b1a1ed-b3ff-4fcf-9350-0a2c18b6e050",
   "metadata": {},
   "outputs": [],
   "source": [
    "clave_cifrado = b'z\\xe8~\"\\xcayW\\x14g\\x18+\\x1c+\\xf9\\x80\\x06P\\x9ej\\x888\\xb4G\\xdf\\xe4\\xc50,\\x8dY\\x80\\x19'"
   ]
  },
  {
   "cell_type": "code",
   "execution_count": 26,
   "id": "f2fd8a40-2df5-4016-b351-e58253310355",
   "metadata": {},
   "outputs": [
    {
     "data": {
      "text/plain": [
       "32"
      ]
     },
     "execution_count": 26,
     "metadata": {},
     "output_type": "execute_result"
    }
   ],
   "source": [
    "len(clave_cifrado)"
   ]
  },
  {
   "cell_type": "code",
   "execution_count": 27,
   "id": "0d97fbd4-c181-481e-9354-600aafbb9c35",
   "metadata": {},
   "outputs": [],
   "source": [
    "# nonce = b'\\xd6\\x7f6\\xc7\\xe8i*\\xa4'\n",
    "nonce = get_random_bytes(12) #nonce aleatorio"
   ]
  },
  {
   "cell_type": "code",
   "execution_count": 31,
   "id": "00b5edae-5edf-4c02-888a-5601e05ea8f6",
   "metadata": {},
   "outputs": [
    {
     "data": {
      "text/plain": [
       "(12, b'\\x86\\xa4M&\\xb1.\\xd2;\\xb2\\xc6\\x93\\xec')"
      ]
     },
     "execution_count": 31,
     "metadata": {},
     "output_type": "execute_result"
    }
   ],
   "source": [
    "len(nonce), nonce"
   ]
  },
  {
   "cell_type": "code",
   "execution_count": 32,
   "id": "c651b105-fbd8-4c17-9fec-3463fce4cb84",
   "metadata": {},
   "outputs": [],
   "source": [
    "texto_plano = b'Este es un mensaje secreto que quiero cifrar.'"
   ]
  },
  {
   "cell_type": "code",
   "execution_count": 33,
   "id": "77b46327-96af-4d25-a13b-dbbc4e262964",
   "metadata": {},
   "outputs": [
    {
     "data": {
      "text/plain": [
       "bytes"
      ]
     },
     "execution_count": 33,
     "metadata": {},
     "output_type": "execute_result"
    }
   ],
   "source": [
    "type(texto_plano)"
   ]
  },
  {
   "cell_type": "code",
   "execution_count": 34,
   "id": "70a3a1f0-8ff2-4ac0-944b-7f2a534de5bc",
   "metadata": {},
   "outputs": [],
   "source": [
    "chacha20_cipher = ChaCha20.new(key=clave_cifrado, nonce=nonce)"
   ]
  },
  {
   "cell_type": "code",
   "execution_count": 35,
   "id": "c4252f38-5c46-41d3-a3e7-972cc603e300",
   "metadata": {},
   "outputs": [
    {
     "data": {
      "text/plain": [
       "b'\\xc5\\xf3\\x0e\\xa6T\\x820r\\x1f\\x03\\xb1j\\x0e\\xb0\\nT\\x9f{u\\xb984m\\x99zZO\\xb5}\\xcb\\x8b\\n\\xad\\x83I\\xf9\\x95\\xfa\\xe6\\xbd\\xaa\"\\xf5\\x97\\xe1'"
      ]
     },
     "execution_count": 35,
     "metadata": {},
     "output_type": "execute_result"
    }
   ],
   "source": [
    "chacha20_cipher.encrypt(texto_plano)"
   ]
  },
  {
   "cell_type": "code",
   "execution_count": 22,
   "id": "18808a95-4d7a-4c0d-9577-c87ace0901dc",
   "metadata": {},
   "outputs": [],
   "source": [
    "##----------------------------------------------------ANZUR-----------------------------------------------------------"
   ]
  },
  {
   "cell_type": "code",
   "execution_count": null,
   "id": "2766e0c3-1dc1-4e27-8dba-b7ff0bb0466a",
   "metadata": {},
   "outputs": [],
   "source": [
    "## Descifrar el Texto Cifrado"
   ]
  },
  {
   "cell_type": "code",
   "execution_count": 36,
   "id": "f34a81ff-aa86-4a47-bfc5-2cd6a22b95ea",
   "metadata": {},
   "outputs": [],
   "source": [
    "texto_cifrado = b'Ehq0\\x83\\xcb\\x8fo\\xab\\xed\\xd0S\\x06\\xcc\\xbb\\xecw\\xe9\\xec(\\x1f\\xc5E\\xdb\\x88\\x18`W\\xc3yQn\\xad3\\xec.\\x08\\x92\\x8d\\x8e\\xbb%\\x8f\\x1a\\xa6\\xc9=\\x15\\x0f5\\xaa'"
   ]
  },
  {
   "cell_type": "code",
   "execution_count": 37,
   "id": "6d8268df-9ab9-4c5e-99bf-07612879c121",
   "metadata": {},
   "outputs": [],
   "source": [
    "clave_cifrado = b'z\\xe8~\"\\xcayW\\x14g\\x18+\\x1c+\\xf9\\x80\\x06P\\x9ej\\x888\\xb4G\\xdf\\xe4\\xc50,\\x8dY\\x80\\x19'"
   ]
  },
  {
   "cell_type": "code",
   "execution_count": 38,
   "id": "fe840a54-1389-4bc2-8de8-6ae471bd255e",
   "metadata": {},
   "outputs": [],
   "source": [
    "nonce = b'\\xd6\\x7f6\\xc7\\xe8i*\\xa4'"
   ]
  },
  {
   "cell_type": "code",
   "execution_count": 39,
   "id": "d356d299-7968-4f98-bc02-41c4206f6126",
   "metadata": {},
   "outputs": [],
   "source": [
    "chacha20_cipher = ChaCha20.new(key=clave_cifrado, nonce=nonce)"
   ]
  },
  {
   "cell_type": "code",
   "execution_count": 40,
   "id": "e368e4ac-fd55-4d63-b0de-5d2ed6bf5e6c",
   "metadata": {},
   "outputs": [
    {
     "data": {
      "text/plain": [
       "b'Este es un mensaje secreto que quiero que descifres'"
      ]
     },
     "execution_count": 40,
     "metadata": {},
     "output_type": "execute_result"
    }
   ],
   "source": [
    "chacha20_cipher.decrypt(texto_cifrado)"
   ]
  },
  {
   "cell_type": "code",
   "execution_count": 41,
   "id": "4674c5ef-b91f-462a-aaee-0ffdfe5dd68a",
   "metadata": {},
   "outputs": [],
   "source": [
    "## Descifrar texto cifrado con perdida de bytes"
   ]
  },
  {
   "cell_type": "code",
   "execution_count": 42,
   "id": "1e6700d2-2db6-4429-b68c-fe042053673f",
   "metadata": {},
   "outputs": [],
   "source": [
    "texto_cifrado_perdida = b\"\\xad\\xe2\\x9a[C\\xca\\xa9\\xadn\\xf9\\xaa)\\x13\\xc2X\\x9e\\x89\\x19`C\\xc4n\\x1em\\xf8?\\xe7|\\x0b\\xd3\\xdc\\x8f\\xacd\\x85\\x0c\\xb8\\xc3'\\x1a\\x12>\""
   ]
  },
  {
   "cell_type": "code",
   "execution_count": 43,
   "id": "9022a44e-6605-4f22-a3f3-883726e427fa",
   "metadata": {},
   "outputs": [
    {
     "data": {
      "text/plain": [
       "b'\\xa0G\\x9bu\\xc4\\xc2\\x8b\\xefU[\\xd9<#\\x11tja\\xaeE\\xaa\\xd8\\x97\\x0f\\xdf\\x02O\\x9c@\\xff\\xecG\\xb0\\xd1u\\xf6\\x13\\xb0g\\x9c\\x95\\xbb\\xfd'"
      ]
     },
     "execution_count": 43,
     "metadata": {},
     "output_type": "execute_result"
    }
   ],
   "source": [
    "chacha20_cipher.decrypt(texto_cifrado_perdida)"
   ]
  },
  {
   "cell_type": "code",
   "execution_count": 44,
   "id": "8249b405-5efd-49af-a3e8-8a6d26e43788",
   "metadata": {},
   "outputs": [],
   "source": [
    "chacha20_cipher.seek(8)"
   ]
  },
  {
   "cell_type": "code",
   "execution_count": 45,
   "id": "2ade51de-0eda-43d8-96c1-d9ee7ff0df39",
   "metadata": {},
   "outputs": [
    {
     "data": {
      "text/plain": [
       "b'saje ha sufrido un error en la transmision'"
      ]
     },
     "execution_count": 45,
     "metadata": {},
     "output_type": "execute_result"
    }
   ],
   "source": [
    "chacha20_cipher.decrypt(texto_cifrado_perdida)"
   ]
  },
  {
   "cell_type": "code",
   "execution_count": null,
   "id": "cc6a52d2-b5bd-4682-946b-c2ef25497edd",
   "metadata": {},
   "outputs": [],
   "source": []
  }
 ],
 "metadata": {
  "kernelspec": {
   "display_name": "Python 3 (ipykernel)",
   "language": "python",
   "name": "python3"
  },
  "language_info": {
   "codemirror_mode": {
    "name": "ipython",
    "version": 3
   },
   "file_extension": ".py",
   "mimetype": "text/x-python",
   "name": "python",
   "nbconvert_exporter": "python",
   "pygments_lexer": "ipython3",
   "version": "3.11.9"
  }
 },
 "nbformat": 4,
 "nbformat_minor": 5
}
